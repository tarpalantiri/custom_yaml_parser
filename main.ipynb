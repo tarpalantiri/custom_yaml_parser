{
 "cells": [
  {
   "cell_type": "markdown",
   "metadata": {},
   "source": [
    "## Imports\n",
    "\n",
    "- `os` for handling platform independant file discovery\n",
    "- `yaml` external package `pyyaml` installed for parsing yaml files\n",
    "- `rich.table` external package `rich` for table output\n",
    "- `dataclasses.fields` fields method of the dataclasses module for looping over dataclass attributes\n",
    "- `libs.parser.Custom_Parser` Our Custom_Parser static class that handles converting dicts to dataclasses"
   ]
  },
  {
   "cell_type": "code",
   "execution_count": 4,
   "metadata": {},
   "outputs": [],
   "source": [
    "import os\n",
    "import yaml\n",
    "from rich.table import Table\n",
    "from rich.console import Console\n",
    "from dataclasses import fields\n",
    "from libs.parser import Custom_Parser"
   ]
  },
  {
   "cell_type": "markdown",
   "metadata": {},
   "source": [
    "Function: show_table\n",
    "  - Outputs data in a table form\n",
    "  - Argument(s):\n",
    "    - `dataclass_item` : A single dataclass object defined by libs\\models.py"
   ]
  },
  {
   "cell_type": "code",
   "execution_count": 5,
   "metadata": {},
   "outputs": [],
   "source": [
    "def show_table(dataclass_item):\n",
    "    console = Console()\n",
    "    table = Table(show_header=False)\n",
    "    table.add_column('Name')\n",
    "    table.add_column('Value')\n",
    "    for field in fields(dataclass_item):\n",
    "        name = field.name\n",
    "        value = str(getattr(dataclass_item, field.name))\n",
    "        table.add_row(name, value)\n",
    "    console.print(table)"
   ]
  },
  {
   "cell_type": "markdown",
   "metadata": {},
   "source": [
    "Function: show_items\n",
    "  - Loops over each dataclass inside a collection and outputs in table form\n",
    "  - Argument(s):\n",
    "    - `items_collection`: Any iterable containing dataclass objects defined in libs\\models"
   ]
  },
  {
   "cell_type": "code",
   "execution_count": 11,
   "metadata": {},
   "outputs": [],
   "source": [
    "def show_items(items_collection):\n",
    "    for item in items_collection:\n",
    "        show_table(item)"
   ]
  },
  {
   "cell_type": "markdown",
   "metadata": {},
   "source": [
    "### Parsing the yaml file"
   ]
  },
  {
   "cell_type": "code",
   "execution_count": 13,
   "metadata": {},
   "outputs": [],
   "source": [
    "# Parsing the file and making collections of each type of document in the\n",
    "# yaml file\n",
    "\n",
    "filename = 'facility.yaml'\n",
    "    # Getting file path\n",
    "current_dir = os.getcwd()\n",
    "yaml_path = os.path.join(current_dir, filename)\n",
    "\n",
    "# Parsing YAML File\n",
    "yaml_file_stream = open(yaml_path, 'r')\n",
    "all_docs = yaml.load_all(yaml_file_stream, Loader=yaml.FullLoader)\n",
    "\n",
    "# Seperating into individual dicts\n",
    "pods_dict, gates_dict, airlocks_dict, astros_dict = all_docs\n",
    "\n",
    "# Closing the File Stream\n",
    "yaml_file_stream.close()"
   ]
  },
  {
   "cell_type": "markdown",
   "metadata": {},
   "source": [
    "### Generating dataclass collections for each type of object found in the yaml file"
   ]
  },
  {
   "cell_type": "code",
   "execution_count": 14,
   "metadata": {},
   "outputs": [],
   "source": [
    "# Uses generator expression to make collections\n",
    "all_pods = (Custom_Parser.make_pod(index, data)\n",
    "            for index, data in pods_dict.items())\n",
    "all_gates = (Custom_Parser.make_gate(index, data)\n",
    "             for index, data in gates_dict.items())\n",
    "all_airlocks = (Custom_Parser.make_airlock(index, data)\n",
    "                for index, data in airlocks_dict.items())\n",
    "all_astros = (Custom_Parser.make_astronaut(index, data)\n",
    "              for index, data in astros_dict.items())\n"
   ]
  },
  {
   "cell_type": "markdown",
   "metadata": {},
   "source": [
    "### Now we just need to use the `show_items` function and give it one of the generated collection of dataclasses defined above\n",
    "\n",
    "Usage examples:\n",
    "\n",
    "For pods `show_items(all_pods)`\n",
    "\n",
    "For Gates `show_items(all_gates)`\n",
    "\n",
    "For Airlocks `show_items(all_airlocks)`\n",
    "\n",
    "For Astronauts `show_items(all_astros)`"
   ]
  },
  {
   "cell_type": "code",
   "execution_count": null,
   "metadata": {},
   "outputs": [],
   "source": [
    "show_items(all_gates)"
   ]
  }
 ],
 "metadata": {
  "interpreter": {
   "hash": "63b2014fe923bc11fc1089a45e8d8d32d8530e11d1dfc98edf4ada9c05eba13b"
  },
  "kernelspec": {
   "display_name": "Python 3.10.0 64-bit",
   "language": "python",
   "name": "python3"
  },
  "language_info": {
   "codemirror_mode": {
    "name": "ipython",
    "version": 3
   },
   "file_extension": ".py",
   "mimetype": "text/x-python",
   "name": "python",
   "nbconvert_exporter": "python",
   "pygments_lexer": "ipython3",
   "version": "3.10.0"
  },
  "orig_nbformat": 4
 },
 "nbformat": 4,
 "nbformat_minor": 2
}
